{
 "cells": [
  {
   "cell_type": "code",
   "execution_count": 1,
   "metadata": {},
   "outputs": [
    {
     "name": "stderr",
     "output_type": "stream",
     "text": [
      "Using TensorFlow backend.\n"
     ]
    }
   ],
   "source": [
    "import numpy as np\n",
    "import pandas as pd\n",
    "import keras\n",
    "from keras.models import Sequential\n",
    "from keras.layers import Dense\n",
    "from sklearn.preprocessing import StandardScaler\n",
    "from sklearn.preprocessing import OneHotEncoder\n",
    "from sklearn.model_selection import train_test_split\n",
    "from sklearn.metrics import accuracy_score\n",
    "\n",
    "import warnings  # to hide warnings if any\n",
    "warnings.filterwarnings('ignore')\n",
    "\n",
    "import matplotlib.pyplot as plt\n",
    "import seaborn as sns\n",
    "\n",
    "%matplotlib inline\n"
   ]
  },
  {
   "cell_type": "code",
   "execution_count": 2,
   "metadata": {},
   "outputs": [
    {
     "data": {
      "text/html": [
       "<div>\n",
       "<style scoped>\n",
       "    .dataframe tbody tr th:only-of-type {\n",
       "        vertical-align: middle;\n",
       "    }\n",
       "\n",
       "    .dataframe tbody tr th {\n",
       "        vertical-align: top;\n",
       "    }\n",
       "\n",
       "    .dataframe thead th {\n",
       "        text-align: right;\n",
       "    }\n",
       "</style>\n",
       "<table border=\"1\" class=\"dataframe\">\n",
       "  <thead>\n",
       "    <tr style=\"text-align: right;\">\n",
       "      <th></th>\n",
       "      <th>diagnosis</th>\n",
       "      <th>radius_mean</th>\n",
       "      <th>texture_mean</th>\n",
       "      <th>perimeter_mean</th>\n",
       "      <th>area_mean</th>\n",
       "      <th>smoothness_mean</th>\n",
       "      <th>compactness_mean</th>\n",
       "      <th>concavity_mean</th>\n",
       "      <th>concave points_mean</th>\n",
       "      <th>symmetry_mean</th>\n",
       "      <th>...</th>\n",
       "      <th>radius_worst</th>\n",
       "      <th>texture_worst</th>\n",
       "      <th>perimeter_worst</th>\n",
       "      <th>area_worst</th>\n",
       "      <th>smoothness_worst</th>\n",
       "      <th>compactness_worst</th>\n",
       "      <th>concavity_worst</th>\n",
       "      <th>concave points_worst</th>\n",
       "      <th>symmetry_worst</th>\n",
       "      <th>fractal_dimension_worst</th>\n",
       "    </tr>\n",
       "  </thead>\n",
       "  <tbody>\n",
       "    <tr>\n",
       "      <th>0</th>\n",
       "      <td>1</td>\n",
       "      <td>17.99</td>\n",
       "      <td>10.38</td>\n",
       "      <td>122.80</td>\n",
       "      <td>1001.0</td>\n",
       "      <td>0.11840</td>\n",
       "      <td>0.27760</td>\n",
       "      <td>0.3001</td>\n",
       "      <td>0.14710</td>\n",
       "      <td>0.2419</td>\n",
       "      <td>...</td>\n",
       "      <td>25.38</td>\n",
       "      <td>17.33</td>\n",
       "      <td>184.60</td>\n",
       "      <td>2019.0</td>\n",
       "      <td>0.1622</td>\n",
       "      <td>0.6656</td>\n",
       "      <td>0.7119</td>\n",
       "      <td>0.2654</td>\n",
       "      <td>0.4601</td>\n",
       "      <td>0.11890</td>\n",
       "    </tr>\n",
       "    <tr>\n",
       "      <th>1</th>\n",
       "      <td>1</td>\n",
       "      <td>20.57</td>\n",
       "      <td>17.77</td>\n",
       "      <td>132.90</td>\n",
       "      <td>1326.0</td>\n",
       "      <td>0.08474</td>\n",
       "      <td>0.07864</td>\n",
       "      <td>0.0869</td>\n",
       "      <td>0.07017</td>\n",
       "      <td>0.1812</td>\n",
       "      <td>...</td>\n",
       "      <td>24.99</td>\n",
       "      <td>23.41</td>\n",
       "      <td>158.80</td>\n",
       "      <td>1956.0</td>\n",
       "      <td>0.1238</td>\n",
       "      <td>0.1866</td>\n",
       "      <td>0.2416</td>\n",
       "      <td>0.1860</td>\n",
       "      <td>0.2750</td>\n",
       "      <td>0.08902</td>\n",
       "    </tr>\n",
       "    <tr>\n",
       "      <th>2</th>\n",
       "      <td>1</td>\n",
       "      <td>19.69</td>\n",
       "      <td>21.25</td>\n",
       "      <td>130.00</td>\n",
       "      <td>1203.0</td>\n",
       "      <td>0.10960</td>\n",
       "      <td>0.15990</td>\n",
       "      <td>0.1974</td>\n",
       "      <td>0.12790</td>\n",
       "      <td>0.2069</td>\n",
       "      <td>...</td>\n",
       "      <td>23.57</td>\n",
       "      <td>25.53</td>\n",
       "      <td>152.50</td>\n",
       "      <td>1709.0</td>\n",
       "      <td>0.1444</td>\n",
       "      <td>0.4245</td>\n",
       "      <td>0.4504</td>\n",
       "      <td>0.2430</td>\n",
       "      <td>0.3613</td>\n",
       "      <td>0.08758</td>\n",
       "    </tr>\n",
       "    <tr>\n",
       "      <th>3</th>\n",
       "      <td>1</td>\n",
       "      <td>11.42</td>\n",
       "      <td>20.38</td>\n",
       "      <td>77.58</td>\n",
       "      <td>386.1</td>\n",
       "      <td>0.14250</td>\n",
       "      <td>0.28390</td>\n",
       "      <td>0.2414</td>\n",
       "      <td>0.10520</td>\n",
       "      <td>0.2597</td>\n",
       "      <td>...</td>\n",
       "      <td>14.91</td>\n",
       "      <td>26.50</td>\n",
       "      <td>98.87</td>\n",
       "      <td>567.7</td>\n",
       "      <td>0.2098</td>\n",
       "      <td>0.8663</td>\n",
       "      <td>0.6869</td>\n",
       "      <td>0.2575</td>\n",
       "      <td>0.6638</td>\n",
       "      <td>0.17300</td>\n",
       "    </tr>\n",
       "    <tr>\n",
       "      <th>4</th>\n",
       "      <td>1</td>\n",
       "      <td>20.29</td>\n",
       "      <td>14.34</td>\n",
       "      <td>135.10</td>\n",
       "      <td>1297.0</td>\n",
       "      <td>0.10030</td>\n",
       "      <td>0.13280</td>\n",
       "      <td>0.1980</td>\n",
       "      <td>0.10430</td>\n",
       "      <td>0.1809</td>\n",
       "      <td>...</td>\n",
       "      <td>22.54</td>\n",
       "      <td>16.67</td>\n",
       "      <td>152.20</td>\n",
       "      <td>1575.0</td>\n",
       "      <td>0.1374</td>\n",
       "      <td>0.2050</td>\n",
       "      <td>0.4000</td>\n",
       "      <td>0.1625</td>\n",
       "      <td>0.2364</td>\n",
       "      <td>0.07678</td>\n",
       "    </tr>\n",
       "  </tbody>\n",
       "</table>\n",
       "<p>5 rows × 31 columns</p>\n",
       "</div>"
      ],
      "text/plain": [
       "   diagnosis  radius_mean  texture_mean  perimeter_mean  area_mean  \\\n",
       "0          1        17.99         10.38          122.80     1001.0   \n",
       "1          1        20.57         17.77          132.90     1326.0   \n",
       "2          1        19.69         21.25          130.00     1203.0   \n",
       "3          1        11.42         20.38           77.58      386.1   \n",
       "4          1        20.29         14.34          135.10     1297.0   \n",
       "\n",
       "   smoothness_mean  compactness_mean  concavity_mean  concave points_mean  \\\n",
       "0          0.11840           0.27760          0.3001              0.14710   \n",
       "1          0.08474           0.07864          0.0869              0.07017   \n",
       "2          0.10960           0.15990          0.1974              0.12790   \n",
       "3          0.14250           0.28390          0.2414              0.10520   \n",
       "4          0.10030           0.13280          0.1980              0.10430   \n",
       "\n",
       "   symmetry_mean  ...  radius_worst  texture_worst  perimeter_worst  \\\n",
       "0         0.2419  ...         25.38          17.33           184.60   \n",
       "1         0.1812  ...         24.99          23.41           158.80   \n",
       "2         0.2069  ...         23.57          25.53           152.50   \n",
       "3         0.2597  ...         14.91          26.50            98.87   \n",
       "4         0.1809  ...         22.54          16.67           152.20   \n",
       "\n",
       "   area_worst  smoothness_worst  compactness_worst  concavity_worst  \\\n",
       "0      2019.0            0.1622             0.6656           0.7119   \n",
       "1      1956.0            0.1238             0.1866           0.2416   \n",
       "2      1709.0            0.1444             0.4245           0.4504   \n",
       "3       567.7            0.2098             0.8663           0.6869   \n",
       "4      1575.0            0.1374             0.2050           0.4000   \n",
       "\n",
       "   concave points_worst  symmetry_worst  fractal_dimension_worst  \n",
       "0                0.2654          0.4601                  0.11890  \n",
       "1                0.1860          0.2750                  0.08902  \n",
       "2                0.2430          0.3613                  0.08758  \n",
       "3                0.2575          0.6638                  0.17300  \n",
       "4                0.1625          0.2364                  0.07678  \n",
       "\n",
       "[5 rows x 31 columns]"
      ]
     },
     "execution_count": 2,
     "metadata": {},
     "output_type": "execute_result"
    }
   ],
   "source": [
    "# Veri Kümemizi Yükleyelim\n",
    "df = pd.read_csv('datasets_180_408_data.csv')\n",
    "\n",
    "#id ve Unnamde sütunlarını siliyoruz\n",
    "df = df.drop(['id', 'Unnamed: 32'], axis = 1)\n",
    "\n",
    "# diagnis sınıfında ki kötü huyluyu = 1, iyi huyluyu = 0 olarak değiştirdik\n",
    "def diagnosis_value(diagnosis):\n",
    "    if diagnosis == 'M':\n",
    "        return 1\n",
    "    else:\n",
    "        return 0\n",
    "\n",
    "df['diagnosis'] = df['diagnosis'].apply(diagnosis_value)\n",
    "df.head()"
   ]
  },
  {
   "cell_type": "code",
   "execution_count": 3,
   "metadata": {},
   "outputs": [
    {
     "data": {
      "text/plain": [
       "(569, 31)"
      ]
     },
     "execution_count": 3,
     "metadata": {},
     "output_type": "execute_result"
    }
   ],
   "source": [
    "#Veri kümemiz 1 tane class 30 tane özellik sütunnundan oluşuyor\n",
    "df.shape"
   ]
  },
  {
   "cell_type": "code",
   "execution_count": 4,
   "metadata": {},
   "outputs": [],
   "source": [
    "# X değerine veri kümemizdeki özellikleri veriyoruz\n",
    "# y değerine veri kümemizin sınıf bilgisini veriyoruz\n",
    "\n",
    "X = df.iloc[:,1:31].values\n",
    "y = df.iloc[:,0:1].values"
   ]
  },
  {
   "cell_type": "code",
   "execution_count": 5,
   "metadata": {},
   "outputs": [],
   "source": [
    "# Veri kümemizdeki sütünları ortalama değerin 0, standart sapmanın ise 1 değerini aldığı, \n",
    "# dağılımın normale yaklaştığı bir metoddur. \n",
    "\n",
    "sc = StandardScaler()\n",
    "X = sc.fit_transform(X)\n"
   ]
  },
  {
   "cell_type": "code",
   "execution_count": 6,
   "metadata": {},
   "outputs": [],
   "source": [
    "# OneHotEncoder = Kategorik değişkenlerin ikili (binary) olarak temsil edilmesi anlamına gelmektedir.\n",
    "# Bu işlem ilk önce kategorik değerlerin tamsayı değerleriyle eşlenmesini gerektirir.\n",
    "# Mevcut değere “1” verip mevcut olmayanlara “0” vermektedir.\n",
    "\n",
    "ohe = OneHotEncoder()\n",
    "y = ohe.fit_transform(y).toarray()"
   ]
  },
  {
   "cell_type": "code",
   "execution_count": 7,
   "metadata": {},
   "outputs": [],
   "source": [
    "# Veri kümemizi train ve tes olarak ayırıyoruz\n",
    "\n",
    "X_train,X_test,y_train,y_test = train_test_split(X,y,test_size = 0.3)"
   ]
  },
  {
   "cell_type": "code",
   "execution_count": 8,
   "metadata": {},
   "outputs": [],
   "source": [
    "# Neural network\n",
    "# input_dim dataset de bulunan sütun sayısı\n",
    "model = Sequential()\n",
    "model.add(Dense(16, input_dim=30, activation='relu'))\n",
    "model.add(Dense(12, activation='relu'))\n",
    "model.add(Dense(2, activation='softmax'))"
   ]
  },
  {
   "cell_type": "code",
   "execution_count": 9,
   "metadata": {},
   "outputs": [
    {
     "name": "stdout",
     "output_type": "stream",
     "text": [
      "Train on 398 samples, validate on 171 samples\n",
      "Epoch 1/60\n",
      "398/398 [==============================] - 0s 742us/step - loss: 0.6437 - accuracy: 0.5327 - val_loss: 0.5587 - val_accuracy: 0.6608\n",
      "Epoch 2/60\n",
      "398/398 [==============================] - 0s 22us/step - loss: 0.5522 - accuracy: 0.6784 - val_loss: 0.4790 - val_accuracy: 0.7719\n",
      "Epoch 3/60\n",
      "398/398 [==============================] - 0s 25us/step - loss: 0.4712 - accuracy: 0.7940 - val_loss: 0.4116 - val_accuracy: 0.8480\n",
      "Epoch 4/60\n",
      "398/398 [==============================] - 0s 26us/step - loss: 0.4043 - accuracy: 0.8543 - val_loss: 0.3573 - val_accuracy: 0.8889\n",
      "Epoch 5/60\n",
      "398/398 [==============================] - 0s 26us/step - loss: 0.3462 - accuracy: 0.9045 - val_loss: 0.3150 - val_accuracy: 0.8830\n",
      "Epoch 6/60\n",
      "398/398 [==============================] - 0s 28us/step - loss: 0.3001 - accuracy: 0.9221 - val_loss: 0.2815 - val_accuracy: 0.8947\n",
      "Epoch 7/60\n",
      "398/398 [==============================] - 0s 25us/step - loss: 0.2613 - accuracy: 0.9271 - val_loss: 0.2551 - val_accuracy: 0.9064\n",
      "Epoch 8/60\n",
      "398/398 [==============================] - 0s 28us/step - loss: 0.2303 - accuracy: 0.9372 - val_loss: 0.2330 - val_accuracy: 0.9181\n",
      "Epoch 9/60\n",
      "398/398 [==============================] - 0s 25us/step - loss: 0.2049 - accuracy: 0.9422 - val_loss: 0.2145 - val_accuracy: 0.9123\n",
      "Epoch 10/60\n",
      "398/398 [==============================] - 0s 28us/step - loss: 0.1832 - accuracy: 0.9422 - val_loss: 0.1992 - val_accuracy: 0.9123\n",
      "Epoch 11/60\n",
      "398/398 [==============================] - 0s 27us/step - loss: 0.1651 - accuracy: 0.9472 - val_loss: 0.1866 - val_accuracy: 0.9123\n",
      "Epoch 12/60\n",
      "398/398 [==============================] - 0s 25us/step - loss: 0.1504 - accuracy: 0.9573 - val_loss: 0.1756 - val_accuracy: 0.9123\n",
      "Epoch 13/60\n",
      "398/398 [==============================] - 0s 30us/step - loss: 0.1376 - accuracy: 0.9648 - val_loss: 0.1665 - val_accuracy: 0.9181\n",
      "Epoch 14/60\n",
      "398/398 [==============================] - 0s 26us/step - loss: 0.1277 - accuracy: 0.9673 - val_loss: 0.1588 - val_accuracy: 0.9240\n",
      "Epoch 15/60\n",
      "398/398 [==============================] - ETA: 0s - loss: 0.1206 - accuracy: 0.95 - 0s 31us/step - loss: 0.1187 - accuracy: 0.9724 - val_loss: 0.1524 - val_accuracy: 0.9240\n",
      "Epoch 16/60\n",
      "398/398 [==============================] - 0s 28us/step - loss: 0.1111 - accuracy: 0.9799 - val_loss: 0.1471 - val_accuracy: 0.9240\n",
      "Epoch 17/60\n",
      "398/398 [==============================] - 0s 25us/step - loss: 0.1048 - accuracy: 0.9774 - val_loss: 0.1426 - val_accuracy: 0.9298\n",
      "Epoch 18/60\n",
      "398/398 [==============================] - 0s 28us/step - loss: 0.0995 - accuracy: 0.9774 - val_loss: 0.1385 - val_accuracy: 0.9298\n",
      "Epoch 19/60\n",
      "398/398 [==============================] - 0s 27us/step - loss: 0.0941 - accuracy: 0.9799 - val_loss: 0.1349 - val_accuracy: 0.9357\n",
      "Epoch 20/60\n",
      "398/398 [==============================] - 0s 25us/step - loss: 0.0899 - accuracy: 0.9824 - val_loss: 0.1319 - val_accuracy: 0.9415\n",
      "Epoch 21/60\n",
      "398/398 [==============================] - 0s 25us/step - loss: 0.0859 - accuracy: 0.9824 - val_loss: 0.1295 - val_accuracy: 0.9415\n",
      "Epoch 22/60\n",
      "398/398 [==============================] - 0s 25us/step - loss: 0.0825 - accuracy: 0.9824 - val_loss: 0.1276 - val_accuracy: 0.9415\n",
      "Epoch 23/60\n",
      "398/398 [==============================] - 0s 25us/step - loss: 0.0795 - accuracy: 0.9824 - val_loss: 0.1250 - val_accuracy: 0.9415\n",
      "Epoch 24/60\n",
      "398/398 [==============================] - 0s 23us/step - loss: 0.0765 - accuracy: 0.9824 - val_loss: 0.1232 - val_accuracy: 0.9415\n",
      "Epoch 25/60\n",
      "398/398 [==============================] - 0s 25us/step - loss: 0.0741 - accuracy: 0.9824 - val_loss: 0.1216 - val_accuracy: 0.9357\n",
      "Epoch 26/60\n",
      "398/398 [==============================] - 0s 29us/step - loss: 0.0718 - accuracy: 0.9824 - val_loss: 0.1197 - val_accuracy: 0.9415\n",
      "Epoch 27/60\n",
      "398/398 [==============================] - 0s 25us/step - loss: 0.0697 - accuracy: 0.9824 - val_loss: 0.1188 - val_accuracy: 0.9298\n",
      "Epoch 28/60\n",
      "398/398 [==============================] - 0s 25us/step - loss: 0.0677 - accuracy: 0.9849 - val_loss: 0.1179 - val_accuracy: 0.9298\n",
      "Epoch 29/60\n",
      "398/398 [==============================] - 0s 30us/step - loss: 0.0660 - accuracy: 0.9849 - val_loss: 0.1175 - val_accuracy: 0.9357\n",
      "Epoch 30/60\n",
      "398/398 [==============================] - 0s 30us/step - loss: 0.0644 - accuracy: 0.9849 - val_loss: 0.1171 - val_accuracy: 0.9357\n",
      "Epoch 31/60\n",
      "398/398 [==============================] - 0s 33us/step - loss: 0.0630 - accuracy: 0.9849 - val_loss: 0.1164 - val_accuracy: 0.9357\n",
      "Epoch 32/60\n",
      "398/398 [==============================] - 0s 38us/step - loss: 0.0616 - accuracy: 0.9849 - val_loss: 0.1159 - val_accuracy: 0.9298\n",
      "Epoch 33/60\n",
      "398/398 [==============================] - 0s 32us/step - loss: 0.0603 - accuracy: 0.9849 - val_loss: 0.1153 - val_accuracy: 0.9298\n",
      "Epoch 34/60\n",
      "398/398 [==============================] - 0s 25us/step - loss: 0.0590 - accuracy: 0.9874 - val_loss: 0.1148 - val_accuracy: 0.9298\n",
      "Epoch 35/60\n",
      "398/398 [==============================] - 0s 33us/step - loss: 0.0579 - accuracy: 0.9874 - val_loss: 0.1141 - val_accuracy: 0.9298\n",
      "Epoch 36/60\n",
      "398/398 [==============================] - 0s 33us/step - loss: 0.0566 - accuracy: 0.9899 - val_loss: 0.1134 - val_accuracy: 0.9298\n",
      "Epoch 37/60\n",
      "398/398 [==============================] - 0s 28us/step - loss: 0.0555 - accuracy: 0.9899 - val_loss: 0.1126 - val_accuracy: 0.9298\n",
      "Epoch 38/60\n",
      "398/398 [==============================] - 0s 25us/step - loss: 0.0546 - accuracy: 0.9899 - val_loss: 0.1122 - val_accuracy: 0.9298\n",
      "Epoch 39/60\n",
      "398/398 [==============================] - 0s 25us/step - loss: 0.0534 - accuracy: 0.9899 - val_loss: 0.1114 - val_accuracy: 0.9415\n",
      "Epoch 40/60\n",
      "398/398 [==============================] - 0s 25us/step - loss: 0.0526 - accuracy: 0.9899 - val_loss: 0.1109 - val_accuracy: 0.9415\n",
      "Epoch 41/60\n",
      "398/398 [==============================] - 0s 23us/step - loss: 0.0516 - accuracy: 0.9899 - val_loss: 0.1094 - val_accuracy: 0.9415\n",
      "Epoch 42/60\n",
      "398/398 [==============================] - 0s 25us/step - loss: 0.0509 - accuracy: 0.9899 - val_loss: 0.1087 - val_accuracy: 0.9415\n",
      "Epoch 43/60\n",
      "398/398 [==============================] - 0s 25us/step - loss: 0.0502 - accuracy: 0.9899 - val_loss: 0.1087 - val_accuracy: 0.9415\n",
      "Epoch 44/60\n",
      "398/398 [==============================] - 0s 22us/step - loss: 0.0489 - accuracy: 0.9899 - val_loss: 0.1084 - val_accuracy: 0.9415\n",
      "Epoch 45/60\n",
      "398/398 [==============================] - 0s 23us/step - loss: 0.0481 - accuracy: 0.9925 - val_loss: 0.1081 - val_accuracy: 0.9415\n",
      "Epoch 46/60\n",
      "398/398 [==============================] - 0s 25us/step - loss: 0.0469 - accuracy: 0.9925 - val_loss: 0.1076 - val_accuracy: 0.9415\n",
      "Epoch 47/60\n",
      "398/398 [==============================] - 0s 20us/step - loss: 0.0462 - accuracy: 0.9925 - val_loss: 0.1072 - val_accuracy: 0.9474\n",
      "Epoch 48/60\n",
      "398/398 [==============================] - 0s 24us/step - loss: 0.0454 - accuracy: 0.9925 - val_loss: 0.1073 - val_accuracy: 0.9474\n",
      "Epoch 49/60\n",
      "398/398 [==============================] - 0s 23us/step - loss: 0.0446 - accuracy: 0.9925 - val_loss: 0.1074 - val_accuracy: 0.9474\n",
      "Epoch 50/60\n",
      "398/398 [==============================] - 0s 23us/step - loss: 0.0441 - accuracy: 0.9925 - val_loss: 0.1080 - val_accuracy: 0.9474\n",
      "Epoch 51/60\n",
      "398/398 [==============================] - 0s 26us/step - loss: 0.0432 - accuracy: 0.9925 - val_loss: 0.1080 - val_accuracy: 0.9474\n",
      "Epoch 52/60\n",
      "398/398 [==============================] - 0s 20us/step - loss: 0.0425 - accuracy: 0.9925 - val_loss: 0.1077 - val_accuracy: 0.9474\n",
      "Epoch 53/60\n",
      "398/398 [==============================] - 0s 23us/step - loss: 0.0418 - accuracy: 0.9925 - val_loss: 0.1074 - val_accuracy: 0.9474\n",
      "Epoch 54/60\n",
      "398/398 [==============================] - 0s 23us/step - loss: 0.0410 - accuracy: 0.9925 - val_loss: 0.1078 - val_accuracy: 0.9474\n",
      "Epoch 55/60\n",
      "398/398 [==============================] - 0s 22us/step - loss: 0.0402 - accuracy: 0.9925 - val_loss: 0.1078 - val_accuracy: 0.9474\n",
      "Epoch 56/60\n",
      "398/398 [==============================] - 0s 23us/step - loss: 0.0396 - accuracy: 0.9925 - val_loss: 0.1075 - val_accuracy: 0.9474\n",
      "Epoch 57/60\n"
     ]
    },
    {
     "name": "stdout",
     "output_type": "stream",
     "text": [
      "398/398 [==============================] - 0s 23us/step - loss: 0.0388 - accuracy: 0.9925 - val_loss: 0.1078 - val_accuracy: 0.9474\n",
      "Epoch 58/60\n",
      "398/398 [==============================] - 0s 23us/step - loss: 0.0380 - accuracy: 0.9925 - val_loss: 0.1084 - val_accuracy: 0.9474\n",
      "Epoch 59/60\n",
      "398/398 [==============================] - 0s 22us/step - loss: 0.0368 - accuracy: 0.9925 - val_loss: 0.1087 - val_accuracy: 0.9415\n",
      "Epoch 60/60\n",
      "398/398 [==============================] - 0s 23us/step - loss: 0.0365 - accuracy: 0.9925 - val_loss: 0.1090 - val_accuracy: 0.9415\n"
     ]
    }
   ],
   "source": [
    "model.compile(loss='categorical_crossentropy', optimizer='adam', metrics=['accuracy'])\n",
    "\n",
    "# Batch Size özellikliği sinir ağınıza her girdiğinizde ne kadar büyüklükte örnek verdiğinizi belirtir.\n",
    "# Verbose özelliği bize sadece eğitim sırasında her bir epochdan sonra elde edilen sonuçların gösterilmesini sağlıyor.\n",
    "\n",
    "history = model.fit(X_train, y_train, epochs=60, batch_size=64, validation_data =(X_test,y_test))"
   ]
  },
  {
   "cell_type": "code",
   "execution_count": 10,
   "metadata": {},
   "outputs": [
    {
     "name": "stdout",
     "output_type": "stream",
     "text": [
      "Test score: 0.10901355757568663\n",
      "Test accuracy: 0.9415204524993896\n"
     ]
    }
   ],
   "source": [
    "# en son epoch değerindeki val-loss ve val-accuracy değerini gösterir\n",
    "score = model.evaluate(X_test, y_test, verbose = 0)\n",
    "print('Test score:', score[0])\n",
    "print('Test accuracy:', score[1])\n",
    "\n"
   ]
  },
  {
   "cell_type": "code",
   "execution_count": 11,
   "metadata": {},
   "outputs": [],
   "source": [
    "# history2 = model.fit(X_train, y_train,validation_data = (X_test,y_test), epochs=100, batch_size=64)"
   ]
  },
  {
   "cell_type": "code",
   "execution_count": 12,
   "metadata": {},
   "outputs": [
    {
     "data": {
      "image/png": "[encoded data removed]",
      "text/plain": [
       "<Figure size 432x288 with 1 Axes>"
      ]
     },
     "metadata": {
      "needs_background": "light"
     },
     "output_type": "display_data"
    }
   ],
   "source": [
    "plt.plot(history.history['val_accuracy'])\n",
    "plt.title('accuracy')\n",
    "plt.ylabel('accuracy')\n",
    "plt.xlabel('epoch')\n",
    "plt.legend(['accuracy'], loc='upper left')\n",
    "plt.show()"
   ]
  },
  {
   "cell_type": "code",
   "execution_count": 13,
   "metadata": {},
   "outputs": [
    {
     "data": {
      "image/png": "[encoded data removed]",
      "text/plain": [
       "<Figure size 432x288 with 1 Axes>"
      ]
     },
     "metadata": {
      "needs_background": "light"
     },
     "output_type": "display_data"
    }
   ],
   "source": [
    "plt.plot(history.history['val_loss'])\n",
    "plt.title('loss')\n",
    "plt.ylabel('loss')\n",
    "plt.xlabel('epoch')\n",
    "plt.show()"
   ]
  },
  {
   "cell_type": "code",
   "execution_count": 14,
   "metadata": {},
   "outputs": [
    {
     "data": {
      "image/png": "[encoded data removed]",
      "text/plain": [
       "<Figure size 432x288 with 2 Axes>"
      ]
     },
     "metadata": {
      "needs_background": "light"
     },
     "output_type": "display_data"
    }
   ],
   "source": [
    "# Confusion matrix oluşturalım. \n",
    "import numpy as np\n",
    "from sklearn.metrics import confusion_matrix\n",
    "import itertools\n",
    "\n",
    "def plot_confusion_matrix(cm, classes,\n",
    "                          normalize=False,\n",
    "                          title='Confusion matrix',\n",
    "                          cmap=plt.cm.Blues):\n",
    "    \n",
    "    plt.imshow(cm, interpolation='nearest', cmap=cmap)\n",
    "    plt.title(title)\n",
    "    plt.colorbar()\n",
    "    tick_marks = np.arange(len(classes))\n",
    "    plt.xticks(tick_marks, classes, rotation=45)\n",
    "    plt.yticks(tick_marks, classes)\n",
    "\n",
    "    if normalize:\n",
    "        cm = cm.astype('float') / cm.sum(axis=1)[:, np.newaxis]\n",
    "\n",
    "    thresh = cm.max() / 2.\n",
    "    for i, j in itertools.product(range(cm.shape[0]), range(cm.shape[1])):\n",
    "        plt.text(j, i, cm[i, j],\n",
    "                 horizontalalignment=\"center\",\n",
    "                 color=\"white\" if cm[i, j] > thresh else \"black\")\n",
    "\n",
    "    plt.tight_layout()\n",
    "    plt.ylabel('True label')\n",
    "    plt.xlabel('Predicted label')\n",
    "\n",
    "# x_test'in tahmin sonuçlarını alalım\n",
    "y_pred = model.predict(X_test)\n",
    "# y_pred'i one hot vektörüne çevirelim \n",
    "y_pred_classes = np.argmax(y_pred,axis = 1) \n",
    "y_true = np.argmax(y_test,axis = 1) \n",
    "# confusion matrix oluşturalım \n",
    "confusion_mtx = confusion_matrix(y_true, y_pred_classes) \n",
    "# confusion matrix çizdirelim\n",
    "plot_confusion_matrix(confusion_mtx, classes = range(2))"
   ]
  },
  {
   "cell_type": "code",
   "execution_count": 15,
   "metadata": {},
   "outputs": [
    {
     "data": {
      "image/png": "[encoded data removed]",
      "text/plain": [
       "<Figure size 432x288 with 2 Axes>"
      ]
     },
     "metadata": {
      "needs_background": "light"
     },
     "output_type": "display_data"
    }
   ],
   "source": [
    "# Eğitimde gerçekleşen loss ve accuracy değerlerini çizdirelim\n",
    "fig, ax = plt.subplots(2,1)\n",
    "ax[0].plot(history.history['loss'], color='b', label=\"Training loss\")\n",
    "ax[0].plot(history.history['val_loss'], color='r', label=\"Validation loss\",axes =ax[0])\n",
    "ax[0].set_ylabel(\"Loss\")\n",
    "legend = ax[0].legend(loc='best', shadow=True)\n",
    "\n",
    "ax[1].plot(history.history['accuracy'], color='b', label=\"Training accuracy\")\n",
    "ax[1].plot(history.history['val_accuracy'], color='r',label=\"Validation accuracy\")\n",
    "ax[1].set_xlabel(\"Number of Epochs\")\n",
    "ax[1].set_ylabel(\"accuracy\")\n",
    "legend = ax[1].legend(loc='best', shadow=True)"
   ]
  }
 ],
 "metadata": {
  "kernelspec": {
   "display_name": "Python 3",
   "language": "python",
   "name": "python3"
  },
  "language_info": {
   "codemirror_mode": {
    "name": "ipython",
    "version": 3
   },
   "file_extension": ".py",
   "mimetype": "text/x-python",
   "name": "python",
   "nbconvert_exporter": "python",
   "pygments_lexer": "ipython3",
   "version": "3.7.7"
  }
 },
 "nbformat": 4,
 "nbformat_minor": 4
}
